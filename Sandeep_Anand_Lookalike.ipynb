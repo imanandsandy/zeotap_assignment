{
  "nbformat": 4,
  "nbformat_minor": 0,
  "metadata": {
    "colab": {
      "provenance": []
    },
    "kernelspec": {
      "name": "python3",
      "display_name": "Python 3"
    },
    "language_info": {
      "name": "python"
    }
  },
  "cells": [
    {
      "cell_type": "code",
      "execution_count": 2,
      "metadata": {
        "colab": {
          "base_uri": "https://localhost:8080/"
        },
        "id": "vJ9eihKxIvUJ",
        "outputId": "4ed57ef3-821c-4b9c-d850-7edb461ca85c"
      },
      "outputs": [
        {
          "output_type": "stream",
          "name": "stdout",
          "text": [
            "total_spent                1\n",
            "num_transactions           1\n",
            "num_products               1\n",
            "most_recent_transaction    1\n",
            "years_since_signup         0\n",
            "dtype: int64\n",
            "  CustomerID LookalikeCustomerID  SimilarityScore\n",
            "0      C0001               C0152         0.989977\n",
            "1      C0001               C0180         0.976599\n",
            "2      C0001               C0106         0.960658\n",
            "3      C0002               C0010         0.991217\n",
            "4      C0002               C0029         0.988858\n"
          ]
        },
        {
          "output_type": "stream",
          "name": "stderr",
          "text": [
            "<ipython-input-2-48e6db731043>:40: SettingWithCopyWarning: \n",
            "A value is trying to be set on a copy of a slice from a DataFrame\n",
            "\n",
            "See the caveats in the documentation: https://pandas.pydata.org/pandas-docs/stable/user_guide/indexing.html#returning-a-view-versus-a-copy\n",
            "  profile_data.fillna(profile_data.mean(), inplace=True)  # Filling NaN with mean\n"
          ]
        }
      ],
      "source": [
        "import pandas as pd\n",
        "import numpy as np\n",
        "from sklearn.metrics.pairwise import cosine_similarity\n",
        "from sklearn.preprocessing import StandardScaler\n",
        "from datetime import datetime\n",
        "\n",
        "# Load the datasets\n",
        "customers_df = pd.read_csv(\"Customers.csv\")\n",
        "products_df = pd.read_csv(\"Products.csv\")\n",
        "transactions_df = pd.read_csv(\"Transactions.csv\")\n",
        "\n",
        "# Preprocess the transactions data\n",
        "# Aggregate transaction data for each customer\n",
        "agg_transactions = transactions_df.groupby('CustomerID').agg(\n",
        "    total_spent=('TotalValue', 'sum'),\n",
        "    num_transactions=('TransactionID', 'count'),\n",
        "    num_products=('ProductID', 'nunique'),\n",
        "    most_recent_transaction=('TransactionDate', lambda x: (datetime.now() - pd.to_datetime(x).max()).days)\n",
        ").reset_index()\n",
        "\n",
        "# Merge with customer data\n",
        "customer_data = pd.merge(customers_df, agg_transactions, on='CustomerID', how='left')\n",
        "\n",
        "# Feature engineering: Adding customer profile features\n",
        "# 1. Region as categorical variable (One-hot encoding)\n",
        "customer_data = pd.get_dummies(customer_data, columns=['Region'], drop_first=True)\n",
        "\n",
        "# 2. Time since signup as a numerical feature\n",
        "customer_data['signup_year'] = pd.to_datetime(customer_data['SignupDate']).dt.year\n",
        "customer_data['years_since_signup'] = datetime.now().year - customer_data['signup_year']\n",
        "\n",
        "# Select relevant columns for similarity calculation\n",
        "features = ['total_spent', 'num_transactions', 'num_products', 'most_recent_transaction', 'years_since_signup']\n",
        "profile_data = customer_data[features]\n",
        "\n",
        "# Check for missing values and handle them\n",
        "print(profile_data.isnull().sum())  # Check missing values for each column\n",
        "\n",
        "# If there are missing values, fill them with the column's mean or drop rows with NaN values\n",
        "profile_data.fillna(profile_data.mean(), inplace=True)  # Filling NaN with mean\n",
        "\n",
        "# Alternatively, you can drop rows with NaN values:\n",
        "# profile_data.dropna(inplace=True)\n",
        "\n",
        "# Standardize the features\n",
        "scaler = StandardScaler()\n",
        "profile_data_scaled = scaler.fit_transform(profile_data)\n",
        "\n",
        "# Calculate Cosine Similarity between all customers\n",
        "similarity_matrix = cosine_similarity(profile_data_scaled)\n",
        "\n",
        "# Function to get top 3 lookalikes\n",
        "def get_top_lookalikes(customer_id, num_recommendations=3):\n",
        "    customer_index = customer_data[customer_data['CustomerID'] == customer_id].index[0]\n",
        "    similarity_scores = similarity_matrix[customer_index]\n",
        "\n",
        "    # Sort the similarity scores in descending order, excluding the customer itself\n",
        "    similar_customers = np.argsort(similarity_scores)[::-1][1:num_recommendations+1]\n",
        "    similar_scores = similarity_scores[similar_customers]\n",
        "\n",
        "    # Map customer_id to their similar customers with scores\n",
        "    similar_customer_ids = customer_data['CustomerID'].iloc[similar_customers].values\n",
        "    lookalikes = [(customer_id, similar_customer_ids[i], similar_scores[i]) for i in range(len(similar_customer_ids))]\n",
        "\n",
        "    return lookalikes\n",
        "\n",
        "# Prepare the Lookalike.csv with recommendations for customers C0001 to C0020\n",
        "lookalike_recommendations = []\n",
        "for cust_id in customer_data['CustomerID'][:20]:\n",
        "    lookalike_recommendations.extend(get_top_lookalikes(cust_id))\n",
        "\n",
        "# Create DataFrame for the recommendations\n",
        "lookalike_df = pd.DataFrame(lookalike_recommendations, columns=['CustomerID', 'LookalikeCustomerID', 'SimilarityScore'])\n",
        "\n",
        "# Save to Lookalike.csv\n",
        "lookalike_df.to_csv('Lookalike.csv', index=False)\n",
        "\n",
        "# Show the first few recommendations\n",
        "print(lookalike_df.head())\n"
      ]
    },
    {
      "cell_type": "code",
      "source": [],
      "metadata": {
        "id": "R9-TjenPI9wj"
      },
      "execution_count": null,
      "outputs": []
    }
  ]
}